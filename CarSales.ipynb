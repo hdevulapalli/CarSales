{
 "cells": [
  {
   "cell_type": "code",
   "execution_count": 93,
   "metadata": {},
   "outputs": [],
   "source": [
    "#Dependencies\n",
    "import requests\n",
    "import json\n",
    "import pandas as pd\n",
    "\n",
    "target_url = \"https://marketcheck-prod.apigee.net/v1/popular/cars?api_key=3XhPmWArI3SYYbfFZpGuUFLEtVgEZvEn&state=GA&car_type=new\"\n",
    "\n"
   ]
  },
  {
   "cell_type": "code",
   "execution_count": 94,
   "metadata": {},
   "outputs": [],
   "source": [
    "car_response = requests.get(f\"{target_url}\").json()"
   ]
  },
  {
   "cell_type": "code",
   "execution_count": 95,
   "metadata": {
    "scrolled": true
   },
   "outputs": [
    {
     "data": {
      "text/plain": [
       "<class 'list'>"
      ]
     },
     "execution_count": 95,
     "metadata": {},
     "output_type": "execute_result"
    }
   ],
   "source": [
    "type(car_response)"
   ]
  },
  {
   "cell_type": "code",
   "execution_count": 97,
   "metadata": {
    "scrolled": true
   },
   "outputs": [
    {
     "ename": "AttributeError",
     "evalue": "'list' object has no attribute 'info'",
     "output_type": "error",
     "traceback": [
      "\u001b[0;31m---------------------------------------------------------------------------\u001b[0m",
      "\u001b[0;31mAttributeError\u001b[0m                            Traceback (most recent call last)",
      "\u001b[0;32m<ipython-input-97-686342d9c96f>\u001b[0m in \u001b[0;36m<module>\u001b[0;34m\u001b[0m\n\u001b[0;32m----> 1\u001b[0;31m \u001b[0mcar_response\u001b[0m\u001b[0;34m.\u001b[0m\u001b[0minfo\u001b[0m\u001b[0;34m(\u001b[0m\u001b[0;34m)\u001b[0m\u001b[0;34m\u001b[0m\u001b[0;34m\u001b[0m\u001b[0m\n\u001b[0m",
      "\u001b[0;31mAttributeError\u001b[0m: 'list' object has no attribute 'info'"
     ]
    }
   ],
   "source": []
  },
  {
   "cell_type": "code",
   "execution_count": 96,
   "metadata": {
    "scrolled": false
   },
   "outputs": [
    {
     "name": "stdout",
     "output_type": "stream",
     "text": [
      "{'inventory_type': 'new', 'count': 1134, 'make': 'Ford', 'model': 'F-150', 'price_stats': {'geometric_mean': 42347, 'listings_count': 1046, 'min': 22184, 'median': 41563, 'population_standard_deviation': 10953, 'variance': 119966034, 'max': 109515, 'mean': 43600, 'trimmed_mean': 42495, 'standard_deviation': 10953, 'iqr': 13025}, 'miles_stats': {'geometric_mean': 17, 'listings_count': 142, 'min': 1, 'median': 10, 'population_standard_deviation': 1145, 'variance': 1311461, 'max': 7506, 'mean': 457, 'trimmed_mean': 162, 'standard_deviation': 1145, 'iqr': 28}, 'dom_stats': {'geometric_mean': 51, 'listings_count': 1134, 'min': 1, 'median': 64, 'population_standard_deviation': 97, 'variance': 9368, 'max': 703, 'mean': 96, 'trimmed_mean': 81, 'standard_deviation': 97, 'iqr': 116}}\n"
     ]
    }
   ],
   "source": [
    "print(car_response[0])"
   ]
  },
  {
   "cell_type": "code",
   "execution_count": 71,
   "metadata": {
    "scrolled": true
   },
   "outputs": [
    {
     "name": "stdout",
     "output_type": "stream",
     "text": [
      "{\n",
      "   \"inventory_type\": \"new\",\n",
      "   \"count\": 1134,\n",
      "   \"make\": \"Ford\",\n",
      "   \"model\": \"F-150\",\n",
      "   \"price_stats\": {\n",
      "      \"geometric_mean\": 42347,\n",
      "      \"listings_count\": 1046,\n",
      "      \"min\": 22184,\n",
      "      \"median\": 41563,\n",
      "      \"population_standard_deviation\": 10953,\n",
      "      \"variance\": 119966034,\n",
      "      \"max\": 109515,\n",
      "      \"mean\": 43600,\n",
      "      \"trimmed_mean\": 42495,\n",
      "      \"standard_deviation\": 10953,\n",
      "      \"iqr\": 13025\n",
      "   },\n",
      "   \"miles_stats\": {\n",
      "      \"geometric_mean\": 17,\n",
      "      \"listings_count\": 142,\n",
      "      \"min\": 1,\n",
      "      \"median\": 10,\n",
      "      \"population_standard_deviation\": 1145,\n",
      "      \"variance\": 1311461,\n",
      "      \"max\": 7506,\n",
      "      \"mean\": 457,\n",
      "      \"trimmed_mean\": 162,\n",
      "      \"standard_deviation\": 1145,\n",
      "      \"iqr\": 28\n",
      "   },\n",
      "   \"dom_stats\": {\n",
      "      \"geometric_mean\": 51,\n",
      "      \"listings_count\": 1134,\n",
      "      \"min\": 1,\n",
      "      \"median\": 64,\n",
      "      \"population_standard_deviation\": 97,\n",
      "      \"variance\": 9368,\n",
      "      \"max\": 703,\n",
      "      \"mean\": 96,\n",
      "      \"trimmed_mean\": 81,\n",
      "      \"standard_deviation\": 97,\n",
      "      \"iqr\": 116\n",
      "   }\n",
      "}\n"
     ]
    }
   ],
   "source": [
    "print(json.dumps(car_response[0],indent=3))"
   ]
  },
  {
   "cell_type": "code",
   "execution_count": 98,
   "metadata": {
    "scrolled": false
   },
   "outputs": [],
   "source": [
    "#List of Car Make \n",
    "car_makeModel = []\n",
    "\n",
    "#List of Car Make Counts\n",
    "car_Sales = []"
   ]
  },
  {
   "cell_type": "code",
   "execution_count": 99,
   "metadata": {
    "scrolled": false
   },
   "outputs": [
    {
     "name": "stdout",
     "output_type": "stream",
     "text": [
      "['Ford-F-150', 'Chevrolet-Silverado', 'Toyota-Camry', 'Ram-1500', 'Toyota-Corolla', 'Toyota-RAV4', 'GMC-Sierra', 'Toyota-Tacoma', 'Toyota-Highlander', 'Ford-Explorer', 'Chevrolet-Silverado 1500', 'Honda-CR-V', 'Chevrolet-Colorado', 'Chevrolet-Equinox', 'Jeep-Cherokee', 'Jeep-Renegade', 'Nissan-Altima', 'Jeep-Wrangler', 'Honda-Accord', 'Nissan-Rogue', 'Jeep-Grand Cherokee', 'Chevrolet-Blazer', 'Chevrolet-Traverse', 'Lexus-RX', 'Kia-Sorento', 'Ford-Superduty', 'Buick-Encore', 'Ford-Ranger', 'Ram-2500', 'Kia-Soul', 'Dodge-Journey', 'Ford-Escape', 'Chevrolet-Tahoe', 'Volkswagen-Jetta', 'Kia-Forte', 'Honda-Civic', 'Hyundai-Elantra', 'GMC-Acadia', 'Volkswagen-Atlas', 'Chevrolet-Malibu', 'GMC-Sierra 1500', 'Toyota-4-Runner', 'Honda-Pilot', 'Nissan-Versa', 'Kia-Sportage', 'Toyota-Tundra', 'Ford-Edge', 'Kia-Optima', 'Jeep-Compass', 'Dodge-Challenger']\n",
      "[1134, 799, 652, 601, 532, 490, 459, 372, 323, 319, 318, 305, 283, 282, 272, 271, 270, 270, 262, 261, 255, 218, 213, 210, 210, 209, 204, 198, 193, 192, 186, 186, 184, 178, 175, 171, 170, 169, 167, 163, 162, 160, 159, 153, 151, 149, 149, 144, 144, 142]\n"
     ]
    }
   ],
   "source": [
    "for car in car_response:\n",
    "    car_makeModel.append(car[\"make\"]+\"-\"+car[\"model\"])\n",
    "    car_Sales.append(car[\"count\"])\n",
    "    \n",
    "print(car_makeModel)\n",
    "print(car_Sales)\n",
    "\n",
    "\n",
    "#type(car_makeModel)\n",
    "#type(car_Sales)\n"
   ]
  },
  {
   "cell_type": "code",
   "execution_count": 114,
   "metadata": {
    "scrolled": true
   },
   "outputs": [],
   "source": [
    "carSales_df = pd.DataFrame({\n",
    "                            \"MM\": car_makeModel, \n",
    "                            \"Sales\": car_Sales})"
   ]
  },
  {
   "cell_type": "code",
   "execution_count": 115,
   "metadata": {
    "scrolled": false
   },
   "outputs": [
    {
     "data": {
      "text/html": [
       "<div>\n",
       "<style scoped>\n",
       "    .dataframe tbody tr th:only-of-type {\n",
       "        vertical-align: middle;\n",
       "    }\n",
       "\n",
       "    .dataframe tbody tr th {\n",
       "        vertical-align: top;\n",
       "    }\n",
       "\n",
       "    .dataframe thead th {\n",
       "        text-align: right;\n",
       "    }\n",
       "</style>\n",
       "<table border=\"1\" class=\"dataframe\">\n",
       "  <thead>\n",
       "    <tr style=\"text-align: right;\">\n",
       "      <th></th>\n",
       "      <th>MM</th>\n",
       "      <th>Sales</th>\n",
       "    </tr>\n",
       "  </thead>\n",
       "  <tbody>\n",
       "    <tr>\n",
       "      <td>0</td>\n",
       "      <td>Ford-F-150</td>\n",
       "      <td>1134</td>\n",
       "    </tr>\n",
       "    <tr>\n",
       "      <td>1</td>\n",
       "      <td>Chevrolet-Silverado</td>\n",
       "      <td>799</td>\n",
       "    </tr>\n",
       "    <tr>\n",
       "      <td>2</td>\n",
       "      <td>Toyota-Camry</td>\n",
       "      <td>652</td>\n",
       "    </tr>\n",
       "    <tr>\n",
       "      <td>3</td>\n",
       "      <td>Ram-1500</td>\n",
       "      <td>601</td>\n",
       "    </tr>\n",
       "    <tr>\n",
       "      <td>4</td>\n",
       "      <td>Toyota-Corolla</td>\n",
       "      <td>532</td>\n",
       "    </tr>\n",
       "  </tbody>\n",
       "</table>\n",
       "</div>"
      ],
      "text/plain": [
       "                    MM  Sales\n",
       "0           Ford-F-150   1134\n",
       "1  Chevrolet-Silverado    799\n",
       "2         Toyota-Camry    652\n",
       "3             Ram-1500    601\n",
       "4       Toyota-Corolla    532"
      ]
     },
     "execution_count": 115,
     "metadata": {},
     "output_type": "execute_result"
    }
   ],
   "source": [
    "carSales_df.head()"
   ]
  },
  {
   "cell_type": "code",
   "execution_count": null,
   "metadata": {},
   "outputs": [],
   "source": []
  },
  {
   "cell_type": "code",
   "execution_count": null,
   "metadata": {},
   "outputs": [],
   "source": []
  },
  {
   "cell_type": "code",
   "execution_count": null,
   "metadata": {},
   "outputs": [],
   "source": []
  },
  {
   "cell_type": "code",
   "execution_count": null,
   "metadata": {},
   "outputs": [],
   "source": []
  },
  {
   "cell_type": "code",
   "execution_count": null,
   "metadata": {},
   "outputs": [],
   "source": []
  },
  {
   "cell_type": "code",
   "execution_count": null,
   "metadata": {
    "scrolled": true
   },
   "outputs": [],
   "source": []
  },
  {
   "cell_type": "code",
   "execution_count": null,
   "metadata": {},
   "outputs": [],
   "source": []
  },
  {
   "cell_type": "code",
   "execution_count": null,
   "metadata": {},
   "outputs": [],
   "source": []
  }
 ],
 "metadata": {
  "kernelspec": {
   "display_name": "Python 3",
   "language": "python",
   "name": "python3"
  },
  "language_info": {
   "codemirror_mode": {
    "name": "ipython",
    "version": 3
   },
   "file_extension": ".py",
   "mimetype": "text/x-python",
   "name": "python",
   "nbconvert_exporter": "python",
   "pygments_lexer": "ipython3",
   "version": "3.6.9"
  }
 },
 "nbformat": 4,
 "nbformat_minor": 2
}
