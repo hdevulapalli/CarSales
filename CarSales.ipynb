{
 "cells": [
  {
   "cell_type": "code",
   "execution_count": 39,
   "metadata": {},
   "outputs": [],
   "source": [
    "#Dependencies\n",
    "import requests\n",
    "import json\n",
    "import pandas as pd\n",
    "\n",
    "target_url = \"https://marketcheck-prod.apigee.net/v1/popular/cars?api_key=3XhPmWArI3SYYbfFZpGuUFLEtVgEZvEn&state=GA&car_type=new\"\n",
    "\n"
   ]
  },
  {
   "cell_type": "code",
   "execution_count": 44,
   "metadata": {},
   "outputs": [],
   "source": [
    "car_response = requests.get(f\"{target_url}\").json()"
   ]
  },
  {
   "cell_type": "code",
   "execution_count": 45,
   "metadata": {
    "scrolled": true
   },
   "outputs": [
    {
     "data": {
      "text/plain": [
       "<class 'list'>"
      ]
     },
     "execution_count": 45,
     "metadata": {},
     "output_type": "execute_result"
    }
   ],
   "source": [
    "type(car_response)"
   ]
  },
  {
   "cell_type": "code",
   "execution_count": 46,
   "metadata": {
    "scrolled": true
   },
   "outputs": [
    {
     "name": "stdout",
     "output_type": "stream",
     "text": [
      "{'inventory_type': 'new', 'count': 1134, 'make': 'Ford', 'model': 'F-150', 'price_stats': {'geometric_mean': 42347, 'listings_count': 1046, 'min': 22184, 'median': 41563, 'population_standard_deviation': 10953, 'variance': 119966034, 'max': 109515, 'mean': 43600, 'trimmed_mean': 42495, 'standard_deviation': 10953, 'iqr': 13025}, 'miles_stats': {'geometric_mean': 17, 'listings_count': 142, 'min': 1, 'median': 10, 'population_standard_deviation': 1145, 'variance': 1311461, 'max': 7506, 'mean': 457, 'trimmed_mean': 162, 'standard_deviation': 1145, 'iqr': 28}, 'dom_stats': {'geometric_mean': 51, 'listings_count': 1134, 'min': 1, 'median': 64, 'population_standard_deviation': 97, 'variance': 9368, 'max': 703, 'mean': 96, 'trimmed_mean': 81, 'standard_deviation': 97, 'iqr': 116}}\n"
     ]
    }
   ],
   "source": [
    "print(car_response[0])"
   ]
  },
  {
   "cell_type": "code",
   "execution_count": 48,
   "metadata": {},
   "outputs": [
    {
     "name": "stdout",
     "output_type": "stream",
     "text": [
      "{\n",
      "   \"inventory_type\": \"new\",\n",
      "   \"count\": 1134,\n",
      "   \"make\": \"Ford\",\n",
      "   \"model\": \"F-150\",\n",
      "   \"price_stats\": {\n",
      "      \"geometric_mean\": 42347,\n",
      "      \"listings_count\": 1046,\n",
      "      \"min\": 22184,\n",
      "      \"median\": 41563,\n",
      "      \"population_standard_deviation\": 10953,\n",
      "      \"variance\": 119966034,\n",
      "      \"max\": 109515,\n",
      "      \"mean\": 43600,\n",
      "      \"trimmed_mean\": 42495,\n",
      "      \"standard_deviation\": 10953,\n",
      "      \"iqr\": 13025\n",
      "   },\n",
      "   \"miles_stats\": {\n",
      "      \"geometric_mean\": 17,\n",
      "      \"listings_count\": 142,\n",
      "      \"min\": 1,\n",
      "      \"median\": 10,\n",
      "      \"population_standard_deviation\": 1145,\n",
      "      \"variance\": 1311461,\n",
      "      \"max\": 7506,\n",
      "      \"mean\": 457,\n",
      "      \"trimmed_mean\": 162,\n",
      "      \"standard_deviation\": 1145,\n",
      "      \"iqr\": 28\n",
      "   },\n",
      "   \"dom_stats\": {\n",
      "      \"geometric_mean\": 51,\n",
      "      \"listings_count\": 1134,\n",
      "      \"min\": 1,\n",
      "      \"median\": 64,\n",
      "      \"population_standard_deviation\": 97,\n",
      "      \"variance\": 9368,\n",
      "      \"max\": 703,\n",
      "      \"mean\": 96,\n",
      "      \"trimmed_mean\": 81,\n",
      "      \"standard_deviation\": 97,\n",
      "      \"iqr\": 116\n",
      "   }\n",
      "}\n"
     ]
    }
   ],
   "source": [
    "print(json.dumps(car_response[0],indent=3))"
   ]
  },
  {
   "cell_type": "code",
   "execution_count": null,
   "metadata": {},
   "outputs": [],
   "source": []
  },
  {
   "cell_type": "code",
   "execution_count": null,
   "metadata": {},
   "outputs": [],
   "source": []
  }
 ],
 "metadata": {
  "kernelspec": {
   "display_name": "Python 3",
   "language": "python",
   "name": "python3"
  },
  "language_info": {
   "codemirror_mode": {
    "name": "ipython",
    "version": 3
   },
   "file_extension": ".py",
   "mimetype": "text/x-python",
   "name": "python",
   "nbconvert_exporter": "python",
   "pygments_lexer": "ipython3",
   "version": "3.6.9"
  }
 },
 "nbformat": 4,
 "nbformat_minor": 2
}
