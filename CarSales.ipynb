{
 "cells": [
  {
   "cell_type": "code",
   "execution_count": 1,
   "metadata": {},
   "outputs": [],
   "source": [
    "#Dependencies\n",
    "import requests\n",
    "import json\n",
    "import pandas as pd\n",
    "import numpy as np\n",
    "import matplotlib.pyplot as plt\n",
    "\n",
    "georgia_url = \"https://marketcheck-prod.apigee.net/v1/popular/cars?api_key=3XhPmWArI3SYYbfFZpGuUFLEtVgEZvEn&state=GA&car_type=new\"\n",
    "national_url= \"https://marketcheck-prod.apigee.net/v1/popular/cars?api_key=3XhPmWArI3SYYbfFZpGuUFLEtVgEZvEn&car_type=new\"\n"
   ]
  },
  {
   "cell_type": "code",
   "execution_count": 2,
   "metadata": {},
   "outputs": [
    {
     "data": {
      "text/plain": [
       "list"
      ]
     },
     "execution_count": 2,
     "metadata": {},
     "output_type": "execute_result"
    }
   ],
   "source": [
    "car_response = requests.get(f\"{georgia_url}\").json()\n",
    "type(car_response)"
   ]
  },
  {
   "cell_type": "code",
   "execution_count": 3,
   "metadata": {},
   "outputs": [
    {
     "data": {
      "text/plain": [
       "list"
      ]
     },
     "execution_count": 3,
     "metadata": {},
     "output_type": "execute_result"
    }
   ],
   "source": [
    "national_response = requests.get(f\"{national_url}\").json()\n",
    "type(national_response)"
   ]
  },
  {
   "cell_type": "code",
   "execution_count": 4,
   "metadata": {},
   "outputs": [
    {
     "name": "stdout",
     "output_type": "stream",
     "text": [
      "{'inventory_type': 'new', 'count': 36399, 'make': 'Ford', 'model': 'F-150', 'price_stats': {'geometric_mean': 43101, 'listings_count': 33240, 'min': 6250, 'median': 42117, 'population_standard_deviation': 13239, 'variance': 175261754, 'max': 697570, 'mean': 44557, 'trimmed_mean': 43351, 'standard_deviation': 13239, 'iqr': 13825}, 'miles_stats': {'geometric_mean': 15, 'listings_count': 5325, 'min': 1, 'median': 10, 'population_standard_deviation': 3804, 'variance': 14469470, 'max': 108477, 'mean': 468, 'trimmed_mean': 19, 'standard_deviation': 3804, 'iqr': 16}, 'dom_stats': {'geometric_mean': 57, 'listings_count': 36399, 'min': 1, 'median': 71, 'population_standard_deviation': 99, 'variance': 9887, 'max': 1376, 'mean': 104, 'trimmed_mean': 90, 'standard_deviation': 99, 'iqr': 129}}\n"
     ]
    }
   ],
   "source": [
    "print(national_response[0])"
   ]
  },
  {
   "cell_type": "code",
   "execution_count": 5,
   "metadata": {
    "scrolled": true
   },
   "outputs": [
    {
     "name": "stdout",
     "output_type": "stream",
     "text": [
      "{'inventory_type': 'new', 'count': 1134, 'make': 'Ford', 'model': 'F-150', 'price_stats': {'geometric_mean': 42347, 'listings_count': 1046, 'min': 22184, 'median': 41563, 'population_standard_deviation': 10953, 'variance': 119966034, 'max': 109515, 'mean': 43600, 'trimmed_mean': 42495, 'standard_deviation': 10953, 'iqr': 13025}, 'miles_stats': {'geometric_mean': 17, 'listings_count': 142, 'min': 1, 'median': 10, 'population_standard_deviation': 1145, 'variance': 1311461, 'max': 7506, 'mean': 457, 'trimmed_mean': 162, 'standard_deviation': 1145, 'iqr': 28}, 'dom_stats': {'geometric_mean': 51, 'listings_count': 1134, 'min': 1, 'median': 64, 'population_standard_deviation': 97, 'variance': 9368, 'max': 703, 'mean': 96, 'trimmed_mean': 81, 'standard_deviation': 97, 'iqr': 116}}\n"
     ]
    }
   ],
   "source": [
    "print(car_response[0])"
   ]
  },
  {
   "cell_type": "code",
   "execution_count": 6,
   "metadata": {
    "scrolled": false
   },
   "outputs": [
    {
     "name": "stdout",
     "output_type": "stream",
     "text": [
      "{\n",
      "   \"inventory_type\": \"new\",\n",
      "   \"count\": 1134,\n",
      "   \"make\": \"Ford\",\n",
      "   \"model\": \"F-150\",\n",
      "   \"price_stats\": {\n",
      "      \"geometric_mean\": 42347,\n",
      "      \"listings_count\": 1046,\n",
      "      \"min\": 22184,\n",
      "      \"median\": 41563,\n",
      "      \"population_standard_deviation\": 10953,\n",
      "      \"variance\": 119966034,\n",
      "      \"max\": 109515,\n",
      "      \"mean\": 43600,\n",
      "      \"trimmed_mean\": 42495,\n",
      "      \"standard_deviation\": 10953,\n",
      "      \"iqr\": 13025\n",
      "   },\n",
      "   \"miles_stats\": {\n",
      "      \"geometric_mean\": 17,\n",
      "      \"listings_count\": 142,\n",
      "      \"min\": 1,\n",
      "      \"median\": 10,\n",
      "      \"population_standard_deviation\": 1145,\n",
      "      \"variance\": 1311461,\n",
      "      \"max\": 7506,\n",
      "      \"mean\": 457,\n",
      "      \"trimmed_mean\": 162,\n",
      "      \"standard_deviation\": 1145,\n",
      "      \"iqr\": 28\n",
      "   },\n",
      "   \"dom_stats\": {\n",
      "      \"geometric_mean\": 51,\n",
      "      \"listings_count\": 1134,\n",
      "      \"min\": 1,\n",
      "      \"median\": 64,\n",
      "      \"population_standard_deviation\": 97,\n",
      "      \"variance\": 9368,\n",
      "      \"max\": 703,\n",
      "      \"mean\": 96,\n",
      "      \"trimmed_mean\": 81,\n",
      "      \"standard_deviation\": 97,\n",
      "      \"iqr\": 116\n",
      "   }\n",
      "}\n"
     ]
    }
   ],
   "source": [
    "print(json.dumps(car_response[0],indent=3))"
   ]
  },
  {
   "cell_type": "code",
   "execution_count": 7,
   "metadata": {
    "scrolled": false
   },
   "outputs": [],
   "source": [
    "#List of Georgia Car Make, model, MakeModel\n",
    "car_make=[]\n",
    "car_Model=[]\n",
    "car_makeModel = []\n",
    "\n",
    "#List of Georgia Car Make Sales in last 7 days\n",
    "car_Sales = []"
   ]
  },
  {
   "cell_type": "code",
   "execution_count": 8,
   "metadata": {
    "scrolled": true
   },
   "outputs": [
    {
     "name": "stdout",
     "output_type": "stream",
     "text": [
      "['Ford', 'Chevrolet', 'Toyota', 'Ram', 'Toyota', 'Toyota', 'GMC', 'Toyota', 'Toyota', 'Ford', 'Chevrolet', 'Honda', 'Chevrolet', 'Chevrolet', 'Jeep', 'Jeep', 'Nissan', 'Jeep', 'Honda', 'Nissan', 'Jeep', 'Chevrolet', 'Chevrolet', 'Lexus', 'Kia', 'Ford', 'Buick', 'Ford', 'Ram', 'Kia', 'Dodge', 'Ford', 'Chevrolet', 'Volkswagen', 'Kia', 'Honda', 'Hyundai', 'GMC', 'Volkswagen', 'Chevrolet', 'GMC', 'Toyota', 'Honda', 'Nissan', 'Kia', 'Toyota', 'Ford', 'Kia', 'Jeep', 'Dodge']\n",
      "['F-150', 'Silverado', 'Camry', '1500', 'Corolla', 'RAV4', 'Sierra', 'Tacoma', 'Highlander', 'Explorer', 'Silverado 1500', 'CR-V', 'Colorado', 'Equinox', 'Cherokee', 'Renegade', 'Altima', 'Wrangler', 'Accord', 'Rogue', 'Grand Cherokee', 'Blazer', 'Traverse', 'RX', 'Sorento', 'Superduty', 'Encore', 'Ranger', '2500', 'Soul', 'Journey', 'Escape', 'Tahoe', 'Jetta', 'Forte', 'Civic', 'Elantra', 'Acadia', 'Atlas', 'Malibu', 'Sierra 1500', '4-Runner', 'Pilot', 'Versa', 'Sportage', 'Tundra', 'Edge', 'Optima', 'Compass', 'Challenger']\n",
      "[1134, 799, 652, 601, 532, 490, 459, 372, 323, 319, 318, 305, 283, 282, 272, 271, 270, 270, 262, 261, 255, 218, 213, 210, 210, 209, 204, 198, 193, 192, 186, 186, 184, 178, 175, 171, 170, 169, 167, 163, 162, 160, 159, 153, 151, 149, 149, 144, 144, 142]\n"
     ]
    }
   ],
   "source": [
    "#car_makeModel.append(car[\"make\"]+\"-\"+car[\"model\"])\n",
    "for car in car_response:\n",
    "    car_make.append(car[\"make\"])\n",
    "    car_Model.append(car[\"model\"])\n",
    "    car_Sales.append(car[\"count\"])\n",
    "    \n",
    "print(car_make)\n",
    "print(car_Model)\n",
    "#print(car_makeModel)\n",
    "\n",
    "print(car_Sales)\n",
    "\n",
    "\n",
    "#type(car_makeModel)\n",
    "#type(car_Sales)\n"
   ]
  },
  {
   "cell_type": "code",
   "execution_count": 9,
   "metadata": {
    "scrolled": true
   },
   "outputs": [],
   "source": [
    "carSales_df = pd.DataFrame({\n",
    "                            #\"MakeModel\": car_makeModel,\n",
    "                            \"Make\":car_make,\n",
    "                            \"Model\":car_Model,\n",
    "                            \"Sales\": car_Sales})"
   ]
  },
  {
   "cell_type": "code",
   "execution_count": 10,
   "metadata": {
    "scrolled": true
   },
   "outputs": [],
   "source": [
    "topCarSalesbyModel_df = carSales_df.head(5)"
   ]
  },
  {
   "cell_type": "code",
   "execution_count": 11,
   "metadata": {},
   "outputs": [
    {
     "data": {
      "text/html": [
       "<div>\n",
       "<style scoped>\n",
       "    .dataframe tbody tr th:only-of-type {\n",
       "        vertical-align: middle;\n",
       "    }\n",
       "\n",
       "    .dataframe tbody tr th {\n",
       "        vertical-align: top;\n",
       "    }\n",
       "\n",
       "    .dataframe thead th {\n",
       "        text-align: right;\n",
       "    }\n",
       "</style>\n",
       "<table border=\"1\" class=\"dataframe\">\n",
       "  <thead>\n",
       "    <tr style=\"text-align: right;\">\n",
       "      <th></th>\n",
       "      <th>Make</th>\n",
       "      <th>Model</th>\n",
       "      <th>Sales</th>\n",
       "    </tr>\n",
       "  </thead>\n",
       "  <tbody>\n",
       "    <tr>\n",
       "      <th>0</th>\n",
       "      <td>Ford</td>\n",
       "      <td>F-150</td>\n",
       "      <td>1134</td>\n",
       "    </tr>\n",
       "    <tr>\n",
       "      <th>1</th>\n",
       "      <td>Chevrolet</td>\n",
       "      <td>Silverado</td>\n",
       "      <td>799</td>\n",
       "    </tr>\n",
       "    <tr>\n",
       "      <th>2</th>\n",
       "      <td>Toyota</td>\n",
       "      <td>Camry</td>\n",
       "      <td>652</td>\n",
       "    </tr>\n",
       "    <tr>\n",
       "      <th>3</th>\n",
       "      <td>Ram</td>\n",
       "      <td>1500</td>\n",
       "      <td>601</td>\n",
       "    </tr>\n",
       "    <tr>\n",
       "      <th>4</th>\n",
       "      <td>Toyota</td>\n",
       "      <td>Corolla</td>\n",
       "      <td>532</td>\n",
       "    </tr>\n",
       "  </tbody>\n",
       "</table>\n",
       "</div>"
      ],
      "text/plain": [
       "        Make      Model  Sales\n",
       "0       Ford      F-150   1134\n",
       "1  Chevrolet  Silverado    799\n",
       "2     Toyota      Camry    652\n",
       "3        Ram       1500    601\n",
       "4     Toyota    Corolla    532"
      ]
     },
     "execution_count": 11,
     "metadata": {},
     "output_type": "execute_result"
    }
   ],
   "source": [
    "topCarSalesbyModel_df.head()"
   ]
  },
  {
   "cell_type": "code",
   "execution_count": 12,
   "metadata": {},
   "outputs": [
    {
     "data": {
      "image/png": "[encoded data removed]",
      "text/plain": [
       "<Figure size 720x576 with 1 Axes>"
      ]
     },
     "metadata": {
      "needs_background": "light"
     },
     "output_type": "display_data"
    }
   ],
   "source": [
    "#Graph 1: Top 5 Model Sales in GA\n",
    "plt.figure(figsize=(10,8))\n",
    "\n",
    "# create a list of numbers for x values\n",
    "tick_locations = np.arange(len(topCarSalesbyModel_df))\n",
    "\n",
    "# create bar chart and set the values of xticks\n",
    "plt.bar(tick_locations, topCarSalesbyModel_df['Sales'], align=\"center\")\n",
    "plt.xticks(tick_locations, topCarSalesbyModel_df['Model'], rotation=45, ha=\"right\")\n",
    "\n",
    "plt.title(\"Top 5 Car Sales in Georgia by Model\")\n",
    "plt.ylabel(\"Total Sales\")\n",
    "plt.xlabel(\"Car Models\")\n",
    "\n",
    "plt.savefig(\"Top5CarSalesByModel.png\")\n",
    "plt.show()"
   ]
  },
  {
   "cell_type": "code",
   "execution_count": 13,
   "metadata": {},
   "outputs": [],
   "source": [
    "byMake_df = carSales_df[[\"Make\",\"Sales\"]]"
   ]
  },
  {
   "cell_type": "code",
   "execution_count": 14,
   "metadata": {},
   "outputs": [],
   "source": [
    "#byMake_df.info()\n",
    "byMake_df[\"SalesCopy\"] = byMake_df[\"Sales\"]"
   ]
  },
  {
   "cell_type": "code",
   "execution_count": 15,
   "metadata": {},
   "outputs": [
    {
     "name": "stdout",
     "output_type": "stream",
     "text": [
      "<class 'pandas.core.frame.DataFrame'>\n",
      "RangeIndex: 50 entries, 0 to 49\n",
      "Data columns (total 3 columns):\n",
      "Make         50 non-null object\n",
      "Sales        50 non-null int64\n",
      "SalesCopy    50 non-null int64\n",
      "dtypes: int64(2), object(1)\n",
      "memory usage: 1.2+ KB\n"
     ]
    }
   ],
   "source": [
    "byMake_df.info()"
   ]
  },
  {
   "cell_type": "code",
   "execution_count": 16,
   "metadata": {},
   "outputs": [],
   "source": [
    "byMakeSlice_df = byMake_df.groupby(['Make']).agg(\n",
    "    {\n",
    "        'SalesCopy': \"sum\"\n",
    "    }\n",
    ")"
   ]
  },
  {
   "cell_type": "code",
   "execution_count": 17,
   "metadata": {},
   "outputs": [],
   "source": [
    "byMakeSlice_df.reset_index(inplace=True)"
   ]
  },
  {
   "cell_type": "code",
   "execution_count": 18,
   "metadata": {},
   "outputs": [],
   "source": [
    "byMakeSlice_df = byMakeSlice_df.rename(columns={'SalesCopy':'TotalSales'})"
   ]
  },
  {
   "cell_type": "code",
   "execution_count": 19,
   "metadata": {},
   "outputs": [
    {
     "name": "stdout",
     "output_type": "stream",
     "text": [
      "<class 'pandas.core.frame.DataFrame'>\n",
      "RangeIndex: 14 entries, 0 to 13\n",
      "Data columns (total 2 columns):\n",
      "Make          14 non-null object\n",
      "TotalSales    14 non-null int64\n",
      "dtypes: int64(1), object(1)\n",
      "memory usage: 304.0+ bytes\n"
     ]
    }
   ],
   "source": [
    "byMakeSlice_df.info()"
   ]
  },
  {
   "cell_type": "code",
   "execution_count": 20,
   "metadata": {},
   "outputs": [],
   "source": [
    "SortedGASales_df = byMakeSlice_df.sort_values(by=['TotalSales'], ascending=False)"
   ]
  },
  {
   "cell_type": "code",
   "execution_count": 21,
   "metadata": {},
   "outputs": [
    {
     "data": {
      "text/html": [
       "<div>\n",
       "<style scoped>\n",
       "    .dataframe tbody tr th:only-of-type {\n",
       "        vertical-align: middle;\n",
       "    }\n",
       "\n",
       "    .dataframe tbody tr th {\n",
       "        vertical-align: top;\n",
       "    }\n",
       "\n",
       "    .dataframe thead th {\n",
       "        text-align: right;\n",
       "    }\n",
       "</style>\n",
       "<table border=\"1\" class=\"dataframe\">\n",
       "  <thead>\n",
       "    <tr style=\"text-align: right;\">\n",
       "      <th></th>\n",
       "      <th>Make</th>\n",
       "      <th>TotalSales</th>\n",
       "    </tr>\n",
       "  </thead>\n",
       "  <tbody>\n",
       "    <tr>\n",
       "      <th>12</th>\n",
       "      <td>Toyota</td>\n",
       "      <td>2678</td>\n",
       "    </tr>\n",
       "    <tr>\n",
       "      <th>1</th>\n",
       "      <td>Chevrolet</td>\n",
       "      <td>2460</td>\n",
       "    </tr>\n",
       "    <tr>\n",
       "      <th>3</th>\n",
       "      <td>Ford</td>\n",
       "      <td>2195</td>\n",
       "    </tr>\n",
       "    <tr>\n",
       "      <th>7</th>\n",
       "      <td>Jeep</td>\n",
       "      <td>1212</td>\n",
       "    </tr>\n",
       "    <tr>\n",
       "      <th>5</th>\n",
       "      <td>Honda</td>\n",
       "      <td>897</td>\n",
       "    </tr>\n",
       "  </tbody>\n",
       "</table>\n",
       "</div>"
      ],
      "text/plain": [
       "         Make  TotalSales\n",
       "12     Toyota        2678\n",
       "1   Chevrolet        2460\n",
       "3        Ford        2195\n",
       "7        Jeep        1212\n",
       "5       Honda         897"
      ]
     },
     "execution_count": 21,
     "metadata": {},
     "output_type": "execute_result"
    }
   ],
   "source": [
    "SortedGASales_df.head()"
   ]
  },
  {
   "cell_type": "code",
   "execution_count": 22,
   "metadata": {},
   "outputs": [],
   "source": [
    "top5CarSalesbyMake_df = SortedGASales_df.head(5)"
   ]
  },
  {
   "cell_type": "code",
   "execution_count": 23,
   "metadata": {},
   "outputs": [
    {
     "name": "stdout",
     "output_type": "stream",
     "text": [
      "<class 'pandas.core.frame.DataFrame'>\n",
      "Int64Index: 5 entries, 12 to 5\n",
      "Data columns (total 2 columns):\n",
      "Make          5 non-null object\n",
      "TotalSales    5 non-null int64\n",
      "dtypes: int64(1), object(1)\n",
      "memory usage: 120.0+ bytes\n"
     ]
    }
   ],
   "source": [
    "top5CarSalesbyMake_df.info()"
   ]
  },
  {
   "cell_type": "code",
   "execution_count": 24,
   "metadata": {},
   "outputs": [
    {
     "data": {
      "image/png": "[encoded data removed]",
      "text/plain": [
       "<Figure size 720x576 with 1 Axes>"
      ]
     },
     "metadata": {
      "needs_background": "light"
     },
     "output_type": "display_data"
    }
   ],
   "source": [
    "#Graph 2: Top 5 Make Sales GA\n",
    "\n",
    "plt.figure(figsize=(10,8))\n",
    "\n",
    "# create a list of numbers for x values\n",
    "tick_locations = np.arange(len(top5CarSalesbyMake_df))\n",
    "\n",
    "# create bar chart and set the values of xticks\n",
    "plt.bar(tick_locations, top5CarSalesbyMake_df['TotalSales'], align=\"center\")\n",
    "plt.xticks(tick_locations, top5CarSalesbyMake_df['Make'], rotation=45, ha=\"right\")\n",
    "\n",
    "plt.title(\"Top 5 Car Sales in Georgia by Make\")\n",
    "plt.ylabel(\"Total Sales\")\n",
    "plt.xlabel(\"Manufacturer\")\n",
    "\n",
    "plt.savefig(\"Top5CarSalesByMake.png\")\n",
    "plt.show()"
   ]
  },
  {
   "cell_type": "code",
   "execution_count": 25,
   "metadata": {},
   "outputs": [
    {
     "name": "stdout",
     "output_type": "stream",
     "text": [
      "{\n",
      "   \"inventory_type\": \"new\",\n",
      "   \"count\": 36399,\n",
      "   \"make\": \"Ford\",\n",
      "   \"model\": \"F-150\",\n",
      "   \"price_stats\": {\n",
      "      \"geometric_mean\": 43101,\n",
      "      \"listings_count\": 33240,\n",
      "      \"min\": 6250,\n",
      "      \"median\": 42117,\n",
      "      \"population_standard_deviation\": 13239,\n",
      "      \"variance\": 175261754,\n",
      "      \"max\": 697570,\n",
      "      \"mean\": 44557,\n",
      "      \"trimmed_mean\": 43351,\n",
      "      \"standard_deviation\": 13239,\n",
      "      \"iqr\": 13825\n",
      "   },\n",
      "   \"miles_stats\": {\n",
      "      \"geometric_mean\": 15,\n",
      "      \"listings_count\": 5325,\n",
      "      \"min\": 1,\n",
      "      \"median\": 10,\n",
      "      \"population_standard_deviation\": 3804,\n",
      "      \"variance\": 14469470,\n",
      "      \"max\": 108477,\n",
      "      \"mean\": 468,\n",
      "      \"trimmed_mean\": 19,\n",
      "      \"standard_deviation\": 3804,\n",
      "      \"iqr\": 16\n",
      "   },\n",
      "   \"dom_stats\": {\n",
      "      \"geometric_mean\": 57,\n",
      "      \"listings_count\": 36399,\n",
      "      \"min\": 1,\n",
      "      \"median\": 71,\n",
      "      \"population_standard_deviation\": 99,\n",
      "      \"variance\": 9887,\n",
      "      \"max\": 1376,\n",
      "      \"mean\": 104,\n",
      "      \"trimmed_mean\": 90,\n",
      "      \"standard_deviation\": 99,\n",
      "      \"iqr\": 129\n",
      "   }\n",
      "}\n"
     ]
    }
   ],
   "source": [
    "print(json.dumps(national_response[0],indent=3))"
   ]
  },
  {
   "cell_type": "code",
   "execution_count": 26,
   "metadata": {},
   "outputs": [],
   "source": [
    "#National List of Car Make, model, MakeModel\n",
    "national_make=[]\n",
    "national_Model=[]\n",
    "national_makeModel = []\n",
    "\n",
    "#List of Car Make Counts\n",
    "national_Sales = []"
   ]
  },
  {
   "cell_type": "code",
   "execution_count": 27,
   "metadata": {},
   "outputs": [
    {
     "name": "stdout",
     "output_type": "stream",
     "text": [
      "['Ford', 'Chevrolet', 'Ram', 'Toyota', 'Honda', 'Chevrolet', 'Toyota', 'Toyota', 'Toyota', 'Toyota', 'GMC', 'Chevrolet', 'Jeep', 'Honda', 'Nissan', 'Honda', 'Ford', 'Jeep', 'Jeep', 'Ford', 'Chevrolet', 'Ford', 'Chevrolet', 'Ford', 'Buick', 'Ford', 'Chevrolet', 'Ford', 'Nissan', 'Chevrolet', 'Honda', 'Hyundai', 'Jeep', 'Ram', 'Mazda', 'Hyundai', 'Jeep', 'Toyota', 'Lexus', 'Subaru', 'GMC', 'Chevrolet', 'Honda', 'Nissan', 'GMC', 'Toyota', 'Subaru', 'Honda', 'GMC', 'Hyundai']\n",
      "['F-150', 'Silverado', '1500', 'RAV4', 'CR-V', 'Equinox', 'Camry', 'Highlander', 'Corolla', 'Tacoma', 'Sierra', 'Silverado 1500', 'Grand Cherokee', 'Civic', 'Rogue', 'Accord', 'Escape', 'Cherokee', 'Wrangler', 'Explorer', 'Traverse', 'Superduty', 'Trax', 'Ranger', 'Encore', 'Fusion', 'Colorado', 'Edge', 'Altima', 'Blazer', 'Pilot', 'Tucson', 'Compass', '2500', 'CX-5', 'Elantra', 'Renegade', '4-Runner', 'RX', 'Forester', 'Terrain', 'Malibu', 'HR-V', 'Sentra', 'Acadia', 'Tundra', 'Crosstrek', 'Odyssey', 'Sierra 1500', 'Santa Fe']\n",
      "[36399, 24821, 21355, 18253, 15759, 15700, 13885, 13368, 13058, 12113, 11984, 11960, 11819, 11500, 11248, 10963, 10698, 10361, 9302, 8250, 7936, 7873, 7794, 7407, 7175, 7057, 6906, 6845, 6828, 6698, 6109, 6031, 6012, 5952, 5877, 5798, 5726, 5690, 5449, 5411, 5396, 5330, 5256, 5195, 5138, 4860, 4822, 4780, 4766, 4464]\n"
     ]
    }
   ],
   "source": [
    "#Create National Sales lists \n",
    "for x in national_response:\n",
    "    national_make.append(x[\"make\"])\n",
    "    national_Model.append(x[\"model\"])\n",
    "    national_Sales.append(x[\"count\"])\n",
    "    \n",
    "print(national_make)\n",
    "print(national_Model)\n",
    "print(national_Sales)\n"
   ]
  },
  {
   "cell_type": "code",
   "execution_count": 28,
   "metadata": {},
   "outputs": [],
   "source": [
    "natSales_df = pd.DataFrame({\n",
    "                            \"Make\": national_make,\n",
    "                            \"Model\": national_Model,\n",
    "                            \"Sales\": national_Sales})"
   ]
  },
  {
   "cell_type": "code",
   "execution_count": 29,
   "metadata": {},
   "outputs": [],
   "source": [
    "topNatSalesbyModel_df = natSales_df.head(5)"
   ]
  },
  {
   "cell_type": "code",
   "execution_count": 30,
   "metadata": {},
   "outputs": [
    {
     "data": {
      "text/html": [
       "<div>\n",
       "<style scoped>\n",
       "    .dataframe tbody tr th:only-of-type {\n",
       "        vertical-align: middle;\n",
       "    }\n",
       "\n",
       "    .dataframe tbody tr th {\n",
       "        vertical-align: top;\n",
       "    }\n",
       "\n",
       "    .dataframe thead th {\n",
       "        text-align: right;\n",
       "    }\n",
       "</style>\n",
       "<table border=\"1\" class=\"dataframe\">\n",
       "  <thead>\n",
       "    <tr style=\"text-align: right;\">\n",
       "      <th></th>\n",
       "      <th>Make</th>\n",
       "      <th>Model</th>\n",
       "      <th>Sales</th>\n",
       "    </tr>\n",
       "  </thead>\n",
       "  <tbody>\n",
       "    <tr>\n",
       "      <th>0</th>\n",
       "      <td>Ford</td>\n",
       "      <td>F-150</td>\n",
       "      <td>36399</td>\n",
       "    </tr>\n",
       "    <tr>\n",
       "      <th>1</th>\n",
       "      <td>Chevrolet</td>\n",
       "      <td>Silverado</td>\n",
       "      <td>24821</td>\n",
       "    </tr>\n",
       "    <tr>\n",
       "      <th>2</th>\n",
       "      <td>Ram</td>\n",
       "      <td>1500</td>\n",
       "      <td>21355</td>\n",
       "    </tr>\n",
       "    <tr>\n",
       "      <th>3</th>\n",
       "      <td>Toyota</td>\n",
       "      <td>RAV4</td>\n",
       "      <td>18253</td>\n",
       "    </tr>\n",
       "    <tr>\n",
       "      <th>4</th>\n",
       "      <td>Honda</td>\n",
       "      <td>CR-V</td>\n",
       "      <td>15759</td>\n",
       "    </tr>\n",
       "  </tbody>\n",
       "</table>\n",
       "</div>"
      ],
      "text/plain": [
       "        Make      Model  Sales\n",
       "0       Ford      F-150  36399\n",
       "1  Chevrolet  Silverado  24821\n",
       "2        Ram       1500  21355\n",
       "3     Toyota       RAV4  18253\n",
       "4      Honda       CR-V  15759"
      ]
     },
     "execution_count": 30,
     "metadata": {},
     "output_type": "execute_result"
    }
   ],
   "source": [
    "topNatSalesbyModel_df"
   ]
  },
  {
   "cell_type": "code",
   "execution_count": 31,
   "metadata": {},
   "outputs": [
    {
     "data": {
      "image/png": "[encoded data removed]",
      "text/plain": [
       "<Figure size 720x576 with 1 Axes>"
      ]
     },
     "metadata": {
      "needs_background": "light"
     },
     "output_type": "display_data"
    }
   ],
   "source": [
    "#Graph 3: Top National Model Sales\n",
    "plt.figure(figsize=(10,8))\n",
    "\n",
    "# create a list of numbers for x values\n",
    "tick_locations = np.arange(len(topNatSalesbyModel_df))\n",
    "\n",
    "# create bar chart and set the values of xticks\n",
    "plt.bar(tick_locations, topNatSalesbyModel_df['Sales'], align=\"center\")\n",
    "plt.xticks(tick_locations, topNatSalesbyModel_df['Model'], rotation=45, ha=\"right\")\n",
    "\n",
    "plt.title(\"Top 5 National Car Sales by Model\")\n",
    "plt.ylabel(\"Total Sales\")\n",
    "plt.xlabel(\"Car Models\")\n",
    "\n",
    "plt.savefig(\"Top5NatSalesByModel.png\")\n",
    "plt.show()"
   ]
  },
  {
   "cell_type": "code",
   "execution_count": 32,
   "metadata": {},
   "outputs": [],
   "source": [
    "NatbyMake_df = natSales_df[[\"Make\",\"Sales\"]]\n",
    "NatbyMake_df[\"SalesCopy\"] = NatbyMake_df[\"Sales\"]"
   ]
  },
  {
   "cell_type": "code",
   "execution_count": 33,
   "metadata": {},
   "outputs": [],
   "source": [
    "NatbyMakeSlice_df = NatbyMake_df.groupby(['Make']).agg(\n",
    "    {\n",
    "        'SalesCopy': \"sum\"})"
   ]
  },
  {
   "cell_type": "code",
   "execution_count": 34,
   "metadata": {},
   "outputs": [
    {
     "name": "stdout",
     "output_type": "stream",
     "text": [
      "<class 'pandas.core.frame.DataFrame'>\n",
      "RangeIndex: 13 entries, 0 to 12\n",
      "Data columns (total 2 columns):\n",
      "Make          13 non-null object\n",
      "TotalSales    13 non-null int64\n",
      "dtypes: int64(1), object(1)\n",
      "memory usage: 288.0+ bytes\n"
     ]
    }
   ],
   "source": [
    "NatbyMakeSlice_df.reset_index(inplace=True)\n",
    "NatbyMakeSlice_df = NatbyMakeSlice_df.rename(columns={'SalesCopy':'TotalSales'})\n",
    "\n",
    "NatbyMakeSlice_df.info()"
   ]
  },
  {
   "cell_type": "code",
   "execution_count": 35,
   "metadata": {},
   "outputs": [
    {
     "data": {
      "text/html": [
       "<div>\n",
       "<style scoped>\n",
       "    .dataframe tbody tr th:only-of-type {\n",
       "        vertical-align: middle;\n",
       "    }\n",
       "\n",
       "    .dataframe tbody tr th {\n",
       "        vertical-align: top;\n",
       "    }\n",
       "\n",
       "    .dataframe thead th {\n",
       "        text-align: right;\n",
       "    }\n",
       "</style>\n",
       "<table border=\"1\" class=\"dataframe\">\n",
       "  <thead>\n",
       "    <tr style=\"text-align: right;\">\n",
       "      <th></th>\n",
       "      <th>Make</th>\n",
       "      <th>TotalSales</th>\n",
       "    </tr>\n",
       "  </thead>\n",
       "  <tbody>\n",
       "    <tr>\n",
       "      <th>1</th>\n",
       "      <td>Chevrolet</td>\n",
       "      <td>87145</td>\n",
       "    </tr>\n",
       "    <tr>\n",
       "      <th>2</th>\n",
       "      <td>Ford</td>\n",
       "      <td>84529</td>\n",
       "    </tr>\n",
       "    <tr>\n",
       "      <th>12</th>\n",
       "      <td>Toyota</td>\n",
       "      <td>81227</td>\n",
       "    </tr>\n",
       "    <tr>\n",
       "      <th>4</th>\n",
       "      <td>Honda</td>\n",
       "      <td>54367</td>\n",
       "    </tr>\n",
       "    <tr>\n",
       "      <th>6</th>\n",
       "      <td>Jeep</td>\n",
       "      <td>43220</td>\n",
       "    </tr>\n",
       "  </tbody>\n",
       "</table>\n",
       "</div>"
      ],
      "text/plain": [
       "         Make  TotalSales\n",
       "1   Chevrolet       87145\n",
       "2        Ford       84529\n",
       "12     Toyota       81227\n",
       "4       Honda       54367\n",
       "6        Jeep       43220"
      ]
     },
     "execution_count": 35,
     "metadata": {},
     "output_type": "execute_result"
    }
   ],
   "source": [
    "NatMakeSalesSort_df = NatbyMakeSlice_df.sort_values(by=['TotalSales'], ascending=False)\n",
    "NatMakeSalesSort_df.head()"
   ]
  },
  {
   "cell_type": "code",
   "execution_count": 36,
   "metadata": {},
   "outputs": [
    {
     "data": {
      "text/plain": [
       "Make          ChevroletFordToyotaHondaJeepRamGMCNissanHyunda...\n",
       "TotalSales                                               473377\n",
       "dtype: object"
      ]
     },
     "execution_count": 36,
     "metadata": {},
     "output_type": "execute_result"
    }
   ],
   "source": [
    "NatMakeSalesSort_df.sum()"
   ]
  },
  {
   "cell_type": "code",
   "execution_count": 37,
   "metadata": {},
   "outputs": [
    {
     "name": "stdout",
     "output_type": "stream",
     "text": [
      "<class 'pandas.core.frame.DataFrame'>\n",
      "Int64Index: 5 entries, 1 to 6\n",
      "Data columns (total 2 columns):\n",
      "Make          5 non-null object\n",
      "TotalSales    5 non-null int64\n",
      "dtypes: int64(1), object(1)\n",
      "memory usage: 120.0+ bytes\n"
     ]
    }
   ],
   "source": [
    "top5NatSalesbyMake_df = NatMakeSalesSort_df.head(5)\n",
    "top5NatSalesbyMake_df.info()"
   ]
  },
  {
   "cell_type": "code",
   "execution_count": 38,
   "metadata": {},
   "outputs": [
    {
     "data": {
      "image/png": "[encoded data removed]",
      "text/plain": [
       "<Figure size 720x576 with 1 Axes>"
      ]
     },
     "metadata": {
      "needs_background": "light"
     },
     "output_type": "display_data"
    }
   ],
   "source": [
    "#Graph 4: Top 5 Make Sales\n",
    "plt.figure(figsize=(10,8))\n",
    "\n",
    "# create a list of numbers for x values\n",
    "tick_locations = np.arange(len(top5NatSalesbyMake_df))\n",
    "\n",
    "# create bar chart and set the values of xticks\n",
    "plt.bar(tick_locations, top5NatSalesbyMake_df['TotalSales'], align=\"center\")\n",
    "plt.xticks(tick_locations, top5NatSalesbyMake_df['Make'], rotation=45, ha=\"right\")\n",
    "\n",
    "plt.title(\"Top 5 National Car Sales by Make\")\n",
    "plt.ylabel(\"Total Sales\")\n",
    "plt.xlabel(\"Manufacturer\")\n",
    "\n",
    "plt.savefig(\"Top5NatSalesByMake.png\")\n",
    "plt.show()"
   ]
  },
  {
   "cell_type": "code",
   "execution_count": null,
   "metadata": {},
   "outputs": [],
   "source": []
  },
  {
   "cell_type": "code",
   "execution_count": null,
   "metadata": {},
   "outputs": [],
   "source": []
  },
  {
   "cell_type": "code",
   "execution_count": null,
   "metadata": {},
   "outputs": [],
   "source": []
  },
  {
   "cell_type": "code",
   "execution_count": null,
   "metadata": {},
   "outputs": [],
   "source": []
  },
  {
   "cell_type": "code",
   "execution_count": null,
   "metadata": {},
   "outputs": [],
   "source": []
  },
  {
   "cell_type": "code",
   "execution_count": null,
   "metadata": {},
   "outputs": [],
   "source": []
  },
  {
   "cell_type": "code",
   "execution_count": null,
   "metadata": {},
   "outputs": [],
   "source": []
  }
 ],
 "metadata": {
  "kernelspec": {
   "display_name": "Python 3",
   "language": "python",
   "name": "python3"
  },
  "language_info": {
   "codemirror_mode": {
    "name": "ipython",
    "version": 3
   },
   "file_extension": ".py",
   "mimetype": "text/x-python",
   "name": "python",
   "nbconvert_exporter": "python",
   "pygments_lexer": "ipython3",
   "version": "3.7.3"
  }
 },
 "nbformat": 4,
 "nbformat_minor": 2
}
